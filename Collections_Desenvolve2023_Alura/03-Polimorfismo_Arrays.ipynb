{
  "nbformat": 4,
  "nbformat_minor": 0,
  "metadata": {
    "colab": {
      "provenance": [],
      "authorship_tag": "ABX9TyPydpDyJGULF+mFqiWuMw/r",
      "include_colab_link": true
    },
    "kernelspec": {
      "name": "python3",
      "display_name": "Python 3"
    },
    "language_info": {
      "name": "python"
    }
  },
  "cells": [
    {
      "cell_type": "markdown",
      "metadata": {
        "id": "view-in-github",
        "colab_type": "text"
      },
      "source": [
        "<a href=\"https://colab.research.google.com/github/Andrehlb/dvelopment.github.io/blob/main/Collections_Desenvolve2023_Alura/03-Polimorfismo_Arrays.ipynb\" target=\"_parent\"><img src=\"https://colab.research.google.com/assets/colab-badge.svg\" alt=\"Open In Colab\"/></a>"
      ]
    },
    {
      "cell_type": "code",
      "execution_count": null,
      "metadata": {
        "id": "NXPL1zthN4YP"
      },
      "outputs": [],
      "source": [
        "class Conta:\n",
        "\n",
        "  def __init__(self, codigo):\n",
        "    self._codigo = codigo\n",
        "    self._saldo = 0\n",
        "  \n",
        "  def deposita(self, valor):\n",
        "    self._saldo += valor\n",
        "  \n",
        "  def __str__(self):\n",
        "    return \"[>>Codigo {} Saldo {}<<]\".format(self._codigo, self._saldo)"
      ]
    },
    {
      "cell_type": "code",
      "source": [
        "print(Conta(88))"
      ],
      "metadata": {
        "colab": {
          "base_uri": "https://localhost:8080/"
        },
        "id": "VNf7IMfRP2dp",
        "outputId": "acd09174-9f0d-40c7-b0c3-a17667ce190e"
      },
      "execution_count": null,
      "outputs": [
        {
          "output_type": "stream",
          "name": "stdout",
          "text": [
            "[>>Codigo 88 Saldo 0<<]\n"
          ]
        }
      ]
    },
    {
      "cell_type": "code",
      "source": [
        "class ContaCorrente(Conta):\n",
        "  \n",
        "  def passa_o_mes(self):\n",
        "    self.saldo -= 2 "
      ],
      "metadata": {
        "id": "YIZbsjBdRu-T"
      },
      "execution_count": null,
      "outputs": []
    },
    {
      "cell_type": "code",
      "source": [
        "class ContaPoupanca(Conta):\n",
        "\n",
        "  def passa_o_mes(self):\n",
        "    self._saldo *= 1.01 # 1% de acréscimo\n",
        "    self._saldo -= 3 # pagando 3"
      ],
      "metadata": {
        "id": "YNOiGkGWUfUb"
      },
      "execution_count": null,
      "outputs": []
    },
    {
      "cell_type": "code",
      "source": [
        "# continuar em [02:13]\n",
        "class ContaCorrente:\n",
        "  def __init__(self, valor):\n",
        "    self.valor = valor\n",
        "    self.saldo = 0 #adiciona o atributo saldo com valor inicial a zero\n",
        "  \n",
        "  def deposita(self, valor):\n",
        "    self.saldo += valor\n",
        "  \n",
        "  def passa_o_mes(self):\n",
        "    self.saldo -= 2\n",
        "  \n",
        "  def __str__(self):\n",
        "    return f\"Conta {self.valor}, Saldo: {self.saldo}\"\n",
        "\n",
        "\n",
        "\n",
        "conta16 = ContaCorrente(16)\n",
        "conta16.deposita(1000)\n",
        "conta16.passa_o_mes()\n",
        "print(conta16)"
      ],
      "metadata": {
        "id": "dwnhlcxFUy_6",
        "colab": {
          "base_uri": "https://localhost:8080/"
        },
        "outputId": "578b5be3-511b-4ef9-e620-8ed8323e60b7"
      },
      "execution_count": 4,
      "outputs": [
        {
          "output_type": "stream",
          "name": "stdout",
          "text": [
            "Conta 16, Saldo: 998\n"
          ]
        }
      ]
    },
    {
      "cell_type": "code",
      "source": [
        "# o mesmo com a conta17 que depositou 1000 reais\n",
        "\n",
        "class ContaPoupanca:\n",
        "  def __init__(self, valor):\n",
        "    self.valor = valor\n",
        "    self.saldo = 0\n",
        "\n",
        "  def deposita(self, valor):\n",
        "    self.saldo += valor\n",
        "  \n",
        "  def passa_o_mes(self):\n",
        "    self.saldo +=2\n",
        "  \n",
        "  def __str__(self):\n",
        "    return f\"Conta {self.valor}, Saldo: {self.saldo}\"\n",
        "\n",
        "\n",
        "\n",
        "\n",
        "conta17 = ContaPoupanca(17)\n",
        "conta17.deposita(1000)\n",
        "conta17.passa_o_mes()\n",
        "print(conta17)\n"
      ],
      "metadata": {
        "colab": {
          "base_uri": "https://localhost:8080/"
        },
        "id": "h2apeclqsrg_",
        "outputId": "bac0ece5-f504-4c47-a8f8-398ab020ad9a"
      },
      "execution_count": 3,
      "outputs": [
        {
          "output_type": "stream",
          "name": "stdout",
          "text": [
            "Conta 17, Saldo: 1002\n"
          ]
        }
      ]
    },
    {
      "cell_type": "code",
      "source": [
        "# para que o resultado seja: >>Codigo 17 Saldo 1007.0<<\n",
        "# tenho que alterar a sintaxe \n",
        "def passa_o_mes(self):\n",
        "    self.saldo += 7\n",
        "print(conta17)"
      ],
      "metadata": {
        "colab": {
          "base_uri": "https://localhost:8080/"
        },
        "id": "uNg2_nVrzlJQ",
        "outputId": "e954b92b-0785-488f-8f9e-d9255336872a"
      },
      "execution_count": null,
      "outputs": [
        {
          "output_type": "stream",
          "name": "stdout",
          "text": [
            "Conta 17, Saldo: 1002\n"
          ]
        }
      ]
    },
    {
      "cell_type": "code",
      "source": [
        "#para alterar parao ter o resultado Conta 17, Saldo: 1007. \n",
        "class ContaPoupanca:\n",
        "  def __init__(self, valor):\n",
        "    self.valor = valor\n",
        "    self.saldo = 0\n",
        "\n",
        "  def deposita(self, valor):\n",
        "    self.saldo += valor\n",
        "  \n",
        "  def passa_o_mes(self):\n",
        "    #self.saldo +=2\n",
        "    self.saldo += 7 #alterar neste ponto do escopo\n",
        "  \n",
        "  def __str__(self):\n",
        "    return f\"Conta {self.valor}, Saldo: {self.saldo}\"\n",
        "\n",
        "\n",
        "\n",
        "\n",
        "conta17 = ContaPoupanca(17)\n",
        "conta17.deposita(1000)\n",
        "conta17.passa_o_mes()\n",
        "print(conta17)\n"
      ],
      "metadata": {
        "colab": {
          "base_uri": "https://localhost:8080/"
        },
        "outputId": "b6a720a0-95b2-4bc3-ce51-0c9ed3345834",
        "id": "q_e8t61F57W4"
      },
      "execution_count": null,
      "outputs": [
        {
          "output_type": "stream",
          "name": "stdout",
          "text": [
            "Conta 17, Saldo: 1007\n"
          ]
        }
      ]
    },
    {
      "cell_type": "code",
      "source": [
        "# acima foi instanciado um objeto e usada herqança para ter o construtor padrão da classe anterior."
      ],
      "metadata": {
        "id": "DJRx41PA6ZeM"
      },
      "execution_count": null,
      "outputs": []
    },
    {
      "cell_type": "code",
      "source": [
        "#aonde entra o polimorfimso ?"
      ],
      "metadata": {
        "id": "fyKYAcqAtwky"
      },
      "execution_count": null,
      "outputs": []
    },
    {
      "cell_type": "code",
      "source": [
        "conta16 = ContaCorrente(16)\n",
        "conta16.deposita(1000)\n",
        "conta17 = ContaPoupanca(17)\n",
        "conta17.deposita(1000)\n",
        "contas = [conta16, conta17]\n"
      ],
      "metadata": {
        "id": "qXWHtjDruNzw"
      },
      "execution_count": 5,
      "outputs": []
    },
    {
      "cell_type": "code",
      "source": [
        "for conta in contas:\n",
        "  conta.passa_o_mes() # duck typing (orientção a objetos)"
      ],
      "metadata": {
        "id": "Ke7tfNKwvPHM"
      },
      "execution_count": 6,
      "outputs": []
    }
  ]
}