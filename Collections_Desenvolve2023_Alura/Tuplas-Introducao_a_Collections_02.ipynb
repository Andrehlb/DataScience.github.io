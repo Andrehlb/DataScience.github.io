{
 "cells": [
  {
   "cell_type": "code",
   "execution_count": 7,
   "metadata": {},
   "outputs": [],
   "source": [
    "class contaCorrente:\n",
    "    def __init__(self, codigo):\n",
    "        self.codigo = codigo\n",
    "        self.saldo = 0\n",
    "          \n",
    "    def deposita(self, valor):\n",
    "          self.saldo += valor\n",
    "          \n",
    "    def __str__(self):\n",
    "        return \"[>>codigo {} saldo {}<<]\".format(self.codigo, self.saldo)"
   ]
  },
  {
   "cell_type": "code",
   "execution_count": 8,
   "metadata": {},
   "outputs": [
    {
     "name": "stdout",
     "output_type": "stream",
     "text": [
      "[>>codigo 15 saldo 500<<]\n"
     ]
    }
   ],
   "source": [
    "conta_Andrehlb = contaCorrente(15)\n",
    "conta_Andrehlb.deposita(500)\n",
    "# __str__ explícito\n",
    "print(conta_Andrehlb.__str__())\n"
   ]
  },
  {
   "cell_type": "code",
   "execution_count": 10,
   "metadata": {},
   "outputs": [
    {
     "name": "stdout",
     "output_type": "stream",
     "text": [
      "[>>codigo 15 saldo 500<<]\n"
     ]
    }
   ],
   "source": [
    "# __str__ implícito\n",
    "print(conta_Andrehlb)"
   ]
  },
  {
   "cell_type": "code",
   "execution_count": 9,
   "metadata": {},
   "outputs": [
    {
     "name": "stdout",
     "output_type": "stream",
     "text": [
      "[>>codigo 1234 saldo 1000<<]\n"
     ]
    }
   ],
   "source": [
    "conta_do_Rafa = contaCorrente(1234)\n",
    "conta_do_Rafa.deposita(1000)\n",
    "print(conta_do_Rafa)"
   ]
  },
  {
   "cell_type": "code",
   "execution_count": 12,
   "metadata": {},
   "outputs": [
    {
     "name": "stdout",
     "output_type": "stream",
     "text": [
      "[>>codigo 15 saldo 500<<]\n",
      "[>>codigo 1234 saldo 1000<<]\n"
     ]
    }
   ],
   "source": [
    "contas = [conta_Andrehlb, conta_do_Rafa]\n",
    "for contas in contas:\n",
    "    print(contas)"
   ]
  },
  {
   "cell_type": "code",
   "execution_count": 13,
   "metadata": {},
   "outputs": [
    {
     "name": "stdout",
     "output_type": "stream",
     "text": [
      "[>>codigo 15 saldo 500<<]\n"
     ]
    }
   ],
   "source": [
    "contas = [conta_Andrehlb, conta_do_Rafa, conta_Andrehlb]\n",
    "\n",
    "print(contas[0])"
   ]
  },
  {
   "cell_type": "code",
   "execution_count": 19,
   "metadata": {},
   "outputs": [
    {
     "name": "stdout",
     "output_type": "stream",
     "text": [
      "[>>codigo 1234 saldo 1500<<]\n",
      "[>>codigo 1234 saldo 1500<<]\n"
     ]
    }
   ],
   "source": [
    "conta_do_Rafa.deposita(100)\n",
    "\n",
    "print(contas[1])\n",
    "print(conta_do_Rafa)"
   ]
  },
  {
   "cell_type": "code",
   "execution_count": 20,
   "metadata": {},
   "outputs": [],
   "source": [
    "contas = [conta_Andrehlb, conta_do_Rafa, conta_Andrehlb]"
   ]
  },
  {
   "cell_type": "code",
   "execution_count": 22,
   "metadata": {},
   "outputs": [
    {
     "name": "stdout",
     "output_type": "stream",
     "text": [
      "[>>codigo 15 saldo 500<<]\n"
     ]
    }
   ],
   "source": [
    "print(conta_Andrehlb)"
   ]
  },
  {
   "cell_type": "code",
   "execution_count": 25,
   "metadata": {},
   "outputs": [],
   "source": [
    "conta_Andrehlb.deposita(100)"
   ]
  },
  {
   "cell_type": "code",
   "execution_count": 26,
   "metadata": {},
   "outputs": [
    {
     "name": "stdout",
     "output_type": "stream",
     "text": [
      "[>>codigo 15 saldo 600<<]\n"
     ]
    }
   ],
   "source": [
    "print(contas[2])"
   ]
  },
  {
   "cell_type": "code",
   "execution_count": 27,
   "metadata": {},
   "outputs": [
    {
     "name": "stdout",
     "output_type": "stream",
     "text": [
      "[>>codigo 15 saldo 900<<]\n"
     ]
    }
   ],
   "source": [
    "contas[2].deposita(300)\n",
    "\n",
    "print(conta_Andrehlb)"
   ]
  }
 ],
 "metadata": {
  "kernelspec": {
   "display_name": "Python 3",
   "language": "python",
   "name": "python3"
  },
  "language_info": {
   "codemirror_mode": {
    "name": "ipython",
    "version": 3
   },
   "file_extension": ".py",
   "mimetype": "text/x-python",
   "name": "python",
   "nbconvert_exporter": "python",
   "pygments_lexer": "ipython3",
   "version": "3.10.8"
  },
  "orig_nbformat": 4
 },
 "nbformat": 4,
 "nbformat_minor": 2
}
