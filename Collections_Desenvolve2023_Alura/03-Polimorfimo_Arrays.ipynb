class Conta:

  def __init__(self, codigo):
