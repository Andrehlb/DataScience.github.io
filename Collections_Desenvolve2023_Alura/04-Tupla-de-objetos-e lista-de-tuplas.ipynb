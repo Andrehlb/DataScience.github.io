{
 "cells": [
  {
   "cell_type": "code",
   "execution_count": 7,
   "metadata": {},
   "outputs": [
    {
     "name": "stdout",
     "output_type": "stream",
     "text": [
      "Autor: André Luiz Barbosa | Andrehlb\n"
     ]
    }
   ],
   "source": [
    "autor = 'Andrehlb'\n",
    "print('Autor: André Luiz Barbosa |', autor)"
   ]
  },
  {
   "cell_type": "code",
   "execution_count": 5,
   "metadata": {},
   "outputs": [
    {
     "data": {
      "text/plain": [
       "[('Andrhelb', 37, 1981), ('Rafa', 31, 1987)]"
      ]
     },
     "execution_count": 5,
     "metadata": {},
     "output_type": "execute_result"
    }
   ],
   "source": [
    "usuarios = ['Andrhelb', 'Rafa']\n",
    "\n",
    "usuarios\n",
    "\n",
    "[('Andrhelb', 37, 1981), ('Rafa', 31, 1987)]"
   ]
  },
  {
   "cell_type": "code",
   "execution_count": 19,
   "metadata": {},
   "outputs": [
    {
     "name": "stdout",
     "output_type": "stream",
     "text": [
      "[('Andrhelb', 42, 1981), ('Rafa', 36, 1987)]\n"
     ]
    }
   ],
   "source": [
    "# compreensão de lista; importando data\n",
    "from datetime import date\n",
    "\n",
    "usuarios = ['Andrhelb', 'Rafa']\n",
    "ano_atual = date.today().year\n",
    "usuarios = [(u, ano_atual - 1981 if u == 'Andrhelb' else ano_atual - 1987, 1981 if u == 'Andrhelb' else 1987) for u in usuarios]\n",
    "print(usuarios)"
   ]
  },
  {
   "cell_type": "code",
   "execution_count": null,
   "metadata": {},
   "outputs": [],
   "source": [
    "usuarios.append(('Paulo, 39, 1979'))\n",
    "usuarios"
   ]
  }
 ],
 "metadata": {
  "kernelspec": {
   "display_name": "Python 3",
   "language": "python",
   "name": "python3"
  },
  "language_info": {
   "codemirror_mode": {
    "name": "ipython",
    "version": 3
   },
   "file_extension": ".py",
   "mimetype": "text/x-python",
   "name": "python",
   "nbconvert_exporter": "python",
   "pygments_lexer": "ipython3",
   "version": "3.10.8"
  },
  "orig_nbformat": 4
 },
 "nbformat": 4,
 "nbformat_minor": 2
}
