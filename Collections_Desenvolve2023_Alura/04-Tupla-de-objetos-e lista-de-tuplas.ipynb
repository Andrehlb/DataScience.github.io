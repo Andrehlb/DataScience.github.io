{
  "cells": [
    {
      "cell_type": "code",
      "execution_count": 1,
      "metadata": {
        "id": "cB-vFfhJSNc1",
        "outputId": "cc3812e7-cfc5-492e-a796-81c137a32d73",
        "colab": {
          "base_uri": "https://localhost:8080/"
        }
      },
      "outputs": [
        {
          "output_type": "stream",
          "name": "stdout",
          "text": [
            "Autor: André Luiz Barbosa | Andrehlb\n"
          ]
        }
      ],
      "source": [
        "autor = 'Andrehlb'\n",
        "print('Autor: André Luiz Barbosa |', autor)"
      ]
    },
    {
      "cell_type": "code",
      "execution_count": null,
      "metadata": {
        "id": "kTv5m3fOSNc2",
        "outputId": "6270ae28-a6b5-4878-958c-ec175e3a38c2"
      },
      "outputs": [
        {
          "data": {
            "text/plain": [
              "[('Andrhelb', 37, 1981), ('Rafa', 31, 1987)]"
            ]
          },
          "execution_count": 5,
          "metadata": {},
          "output_type": "execute_result"
        }
      ],
      "source": [
        "usuarios = ['Andrhelb', 'Rafa']\n",
        "\n",
        "usuarios\n",
        "\n",
        "[('Andrhelb', 37, 1981), ('Rafa', 31, 1987)]"
      ]
    },
    {
      "cell_type": "code",
      "execution_count": null,
      "metadata": {
        "id": "7wPOlN8oSNc3",
        "outputId": "d278c03d-f3a5-439b-ad78-cf5adf84da8a"
      },
      "outputs": [
        {
          "name": "stdout",
          "output_type": "stream",
          "text": [
            "[('Andrhelb', 42, 1981), ('Rafa', 36, 1987)]\n"
          ]
        }
      ],
      "source": [
        "# compreensão de lista; importando data\n",
        "from datetime import date\n",
        "\n",
        "usuarios = ['Andrhelb', 'Rafa']\n",
        "ano_atual = date.today().year\n",
        "usuarios = [(u, ano_atual - 1981 if u == 'Andrhelb' else ano_atual - 1987, 1981 if u == 'Andrhelb' else 1987) for u in usuarios]\n",
        "print(usuarios)"
      ]
    },
    {
      "cell_type": "code",
      "execution_count": null,
      "metadata": {
        "id": "Rys9A0ktSNc3"
      },
      "outputs": [],
      "source": [
        "usuarios.append(('Paulo, 39, 1979'))\n",
        "usuarios"
      ]
    },
    {
      "cell_type": "code",
      "source": [
        "print('teste no colab para aparecer em todas as IDEs')"
      ],
      "metadata": {
        "id": "49yhQZNRXgxU",
        "outputId": "73d8ff08-de18-439b-9e99-5f5c014e1ca0",
        "colab": {
          "base_uri": "https://localhost:8080/"
        }
      },
      "execution_count": 3,
      "outputs": [
        {
          "output_type": "stream",
          "name": "stdout",
          "text": [
            "teste no colab para aparecer em todas as IDEs\n"
          ]
        }
      ]
    }
  ],
  "metadata": {
    "kernelspec": {
      "display_name": "Python 3",
      "language": "python",
      "name": "python3"
    },
    "language_info": {
      "codemirror_mode": {
        "name": "ipython",
        "version": 3
      },
      "file_extension": ".py",
      "mimetype": "text/x-python",
      "name": "python",
      "nbconvert_exporter": "python",
      "pygments_lexer": "ipython3",
      "version": "3.10.8"
    },
    "orig_nbformat": 4,
    "colab": {
      "provenance": []
    }
  },
  "nbformat": 4,
  "nbformat_minor": 0
}