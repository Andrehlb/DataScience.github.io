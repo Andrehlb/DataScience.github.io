{
  "cells": [
    {
      "cell_type": "code",
      "execution_count": 1,
      "metadata": {
        "colab": {
          "base_uri": "https://localhost:8080/"
        },
        "id": "cB-vFfhJSNc1",
        "outputId": "cc3812e7-cfc5-492e-a796-81c137a32d73"
      },
      "outputs": [
        {
          "output_type": "stream",
          "name": "stdout",
          "text": [
            "Autor: André Luiz Barbosa | Andrehlb\n"
          ]
        }
      ],
      "source": [
        "autor = 'Andrehlb'\n",
        "print('Autor: André Luiz Barbosa |', autor)"
      ]
    },
    {
      "cell_type": "code",
      "execution_count": null,
      "metadata": {
        "id": "kTv5m3fOSNc2",
        "outputId": "6270ae28-a6b5-4878-958c-ec175e3a38c2"
      },
      "outputs": [
        {
          "data": {
            "text/plain": [
              "[('Andrhelb', 37, 1981), ('Rafa', 31, 1987)]"
            ]
          },
          "execution_count": 5,
          "metadata": {},
          "output_type": "execute_result"
        }
      ],
      "source": [
        "usuarios = ['Andrhelb', 'Rafa']\n",
        "\n",
        "usuarios\n",
        "\n",
        "[('Andrhelb', 37, 1981), ('Rafa', 31, 1987)]"
      ]
    },
    {
      "cell_type": "code",
      "execution_count": 7,
      "metadata": {
        "colab": {
          "base_uri": "https://localhost:8080/"
        },
        "id": "7wPOlN8oSNc3",
        "outputId": "79ea1877-1743-4761-e9e8-dd98a84e5ff3"
      },
      "outputs": [
        {
          "output_type": "stream",
          "name": "stdout",
          "text": [
            "[('Andrhelb', 42, 1981), ('Rafa', 36, 1987)]\n"
          ]
        }
      ],
      "source": [
        "# compreensão de lista; importando data\n",
        "from datetime import date\n",
        "\n",
        "usuarios = ['Andrhelb', 'Rafa']\n",
        "ano_atual = date.today().year\n",
        "usuarios = [(u, ano_atual - 1981 if u == 'Andrhelb' else ano_atual - 1987, 1981 if u == 'Andrhelb' else 1987) for u in usuarios]\n",
        "print(usuarios)"
      ]
    },
    {
      "cell_type": "code",
      "execution_count": 8,
      "metadata": {
        "colab": {
          "base_uri": "https://localhost:8080/"
        },
        "id": "Rys9A0ktSNc3",
        "outputId": "1b17d221-6645-4b09-aed9-cf57ad9c34b3"
      },
      "outputs": [
        {
          "output_type": "execute_result",
          "data": {
            "text/plain": [
              "[('Andrhelb', 42, 1981), ('Rafa', 36, 1987), 'Paulo, 39, 1979']"
            ]
          },
          "metadata": {},
          "execution_count": 8
        }
      ],
      "source": [
        "usuarios.append(('Paulo, 39, 1979'))\n",
        "usuarios"
      ]
    },
    {
      "cell_type": "code",
      "source": [
        "print('teste no colab para aparecer em todas as IDEs')\n",
        "print('Deu certo!')"
      ],
      "metadata": {
        "colab": {
          "base_uri": "https://localhost:8080/"
        },
        "id": "49yhQZNRXgxU",
        "outputId": "1eed6016-31a1-4167-a59e-2d6134a34990"
      },
      "execution_count": 5,
      "outputs": [
        {
          "output_type": "stream",
          "name": "stdout",
          "text": [
            "teste no colab para aparecer em todas as IDEs\n",
            "Deu certo!\n"
          ]
        }
      ]
    },
    {
      "cell_type": "code",
      "source": [
        "usuarios \n",
        "\n",
        "[('Guilherme',37,1981), ('Daniela',31,1987), ('Paulo',39,1979)]"
      ],
      "metadata": {
        "colab": {
          "base_uri": "https://localhost:8080/"
        },
        "id": "pmiUw86wfgG1",
        "outputId": "1481642c-6d7f-4bd3-c0cb-ba193fafff74"
      },
      "execution_count": 9,
      "outputs": [
        {
          "output_type": "execute_result",
          "data": {
            "text/plain": [
              "[('Guilherme', 37, 1981), ('Daniela', 31, 1987), ('Paulo', 39, 1979)]"
            ]
          },
          "metadata": {},
          "execution_count": 9
        }
      ]
    },
    {
      "cell_type": "code",
      "source": [
        "class ContaCorrente:\n",
        "  def __init__(self, codigo):\n",
        "    self.codigo = codigo\n",
        "    self.saldo = 0\n",
        "  \n",
        "  def deposito(self, valor):\n",
        "    self.saldo += valor\n",
        "  \n",
        "  def __str__(self):\n",
        "    return f\"Conta {self.codigo}: saldo R$ {self.saldo:.2f}\"\n",
        "\n",
        "conta_da_dani = ContaCorrente(47685)\n",
        "conta_da_dani.deposito(1000)\n",
        "print(conta_da_dani)"
      ],
      "metadata": {
        "colab": {
          "base_uri": "https://localhost:8080/"
        },
        "id": "9Tt0nRkShFWp",
        "outputId": "cb0d9805-09fc-4082-bc9f-b851680644ce"
      },
      "execution_count": 35,
      "outputs": [
        {
          "output_type": "stream",
          "name": "stdout",
          "text": [
            "Conta 47685: saldo R$ 1000.00\n"
          ]
        }
      ]
    }
  ],
  "metadata": {
    "kernelspec": {
      "display_name": "Python 3",
      "language": "python",
      "name": "python3"
    },
    "language_info": {
      "codemirror_mode": {
        "name": "ipython",
        "version": 3
      },
      "file_extension": ".py",
      "mimetype": "text/x-python",
      "name": "python",
      "nbconvert_exporter": "python",
      "pygments_lexer": "ipython3",
      "version": "3.10.8"
    },
    "orig_nbformat": 4,
    "colab": {
      "provenance": []
    }
  },
  "nbformat": 4,
  "nbformat_minor": 0
}