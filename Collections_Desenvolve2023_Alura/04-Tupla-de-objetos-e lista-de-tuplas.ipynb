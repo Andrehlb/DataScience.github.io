{
 "cells": [
  {
   "cell_type": "code",
   "execution_count": 2,
   "metadata": {},
   "outputs": [
    {
     "ename": "NameError",
     "evalue": "name 'Andrhelb' is not defined",
     "output_type": "error",
     "traceback": [
      "\u001b[0;31m---------------------------------------------------------------------------\u001b[0m",
      "\u001b[0;31mNameError\u001b[0m                                 Traceback (most recent call last)",
      "Cell \u001b[0;32mIn[2], line 1\u001b[0m\n\u001b[0;32m----> 1\u001b[0m usuarios \u001b[39m=\u001b[39m [Andrhelb, Rafa]\n\u001b[1;32m      3\u001b[0m usuarios\n\u001b[1;32m      5\u001b[0m [(\u001b[39m'\u001b[39m\u001b[39mAndrhelb\u001b[39m\u001b[39m'\u001b[39m, \u001b[39m37\u001b[39m, \u001b[39m1981\u001b[39m), (\u001b[39m'\u001b[39m\u001b[39mRafa\u001b[39m\u001b[39m'\u001b[39m, \u001b[39m31\u001b[39m, \u001b[39m1987\u001b[39m)]\n",
      "\u001b[0;31mNameError\u001b[0m: name 'Andrhelb' is not defined"
     ]
    }
   ],
   "source": [
    "usuarios = [Andrhelb, Rafa]\n",
    "\n",
    "usuarios\n",
    "\n",
    "[('Andrhelb', 37, 1981), ('Rafa', 31, 1987)]"
   ]
  }
 ],
 "metadata": {
  "kernelspec": {
   "display_name": "Python 3",
   "language": "python",
   "name": "python3"
  },
  "language_info": {
   "codemirror_mode": {
    "name": "ipython",
    "version": 3
   },
   "file_extension": ".py",
   "mimetype": "text/x-python",
   "name": "python",
   "nbconvert_exporter": "python",
   "pygments_lexer": "ipython3",
   "version": "3.10.4"
  },
  "orig_nbformat": 4
 },
 "nbformat": 4,
 "nbformat_minor": 2
}
