{
  "cells": [
    {
      "cell_type": "code",
      "execution_count": 18,
      "metadata": {
        "id": "YE4gexDF7_xY",
        "outputId": "34272da5-6570-4072-c6b1-9ca5f3d9f32d"
      },
      "outputs": [
        {
          "name": "stdout",
          "output_type": "stream",
          "text": [
            "39 30 27\n",
            "69\n"
          ]
        }
      ],
      "source": [
        "# idade de diversos usuários do meu site\n",
        "idade1, idade2, idade3 = (39, 30, 27)\n",
        "print (idade1, idade2, idade3)\n",
        "print(idade1 + idade2)"
      ]
    },
    {
      "cell_type": "code",
      "execution_count": 11,
      "metadata": {
        "id": "dqAVy7Rw8Hja"
      },
      "outputs": [
        {
          "name": "stdout",
          "output_type": "stream",
          "text": [
            "5\n",
            "[16, 21, 29, 56, 43, 13]\n"
          ]
        }
      ],
      "source": [
        "#[00:58]\n",
        "idades = [16,21,29,56, 43]\n",
        "def faz_processamento_de_visualizacao(idades):\n",
        "    print(len(idades))\n",
        "    idades.append(13)\n",
        "    print(idades)\n",
        "faz_processamento_de_visualizacao(idades)\n"
      ]
    },
    {
      "cell_type": "code",
      "execution_count": 26,
      "metadata": {},
      "outputs": [
        {
          "name": "stdout",
          "output_type": "stream",
          "text": [
            "0\n",
            "1\n",
            "2\n"
          ]
        }
      ],
      "source": [
        "def faz_processamento_de_visualizacao(lista = []):\n",
        "    print(len(lista))\n",
        "    lista.append(13)\n",
        "faz_processamento_de_visualizacao()\n",
        "faz_processamento_de_visualizacao()\n",
        "faz_processamento_de_visualizacao()"
      ]
    },
    {
      "cell_type": "code",
      "execution_count": 24,
      "metadata": {},
      "outputs": [
        {
          "name": "stdout",
          "output_type": "stream",
          "text": [
            "3\n",
            "4\n",
            "5\n"
          ]
        }
      ],
      "source": [
        "faz_processamento_de_visualizacao()\n",
        "faz_processamento_de_visualizacao()\n",
        "faz_processamento_de_visualizacao()"
      ]
    },
    {
      "cell_type": "code",
      "execution_count": 16,
      "metadata": {},
      "outputs": [
        {
          "name": "stdout",
          "output_type": "stream",
          "text": [
            "0\n",
            "[]\n",
            "1\n",
            "[13]\n"
          ]
        }
      ],
      "source": [
        "def faz_processamento_de_visualizacao(lista = list()):\n",
        "    print(len(lista))\n",
        "    print(lista)\n",
        "    lista.append(13)\n",
        "\n",
        "faz_processamento_de_visualizacao()\n",
        "faz_processamento_de_visualizacao()\n",
        "    "
      ]
    },
    {
      "cell_type": "code",
      "execution_count": 2,
      "metadata": {},
      "outputs": [
        {
          "name": "stdout",
          "output_type": "stream",
          "text": [
            "(5, [16, 21, 29, 56, 43, 13])\n"
          ]
        }
      ],
      "source": [
        "\n",
        "lista = [16, 21, 29, 56, 43]\n",
        "def faz_processamento_de_visualizacao(lista = []):\n",
        "    #print(\"Tamanho da lista: \", len(lista))\n",
        "    tamanho_lista = len(lista)\n",
        "    lista.append(13)\n",
        "    #print(\"Lista modificada: \", lista)\n",
        "    return tamanho_lista, lista\n",
        "resultado = faz_processamento_de_visualizacao(lista)\n",
        "print(resultado)"
      ]
    },
    {
      "cell_type": "code",
      "execution_count": 3,
      "metadata": {},
      "outputs": [
        {
          "name": "stdout",
          "output_type": "stream",
          "text": [
            "6\n",
            "[16, 21, 29, 56, 43, 13]\n"
          ]
        }
      ],
      "source": [
        "lista = [16, 21, 29, 56, 43]\n",
        "def faz_processamento_de_visualizacao(lista = None):\n",
        "    if lista == None:\n",
        "        lista = list()\n",
        "print(len(lista))\n",
        "print(lista)\n",
        "lista.append(13)"
      ]
    }
  ],
  "metadata": {
    "colab": {
      "provenance": []
    },
    "kernelspec": {
      "display_name": "Python 3",
      "language": "python",
      "name": "python3"
    },
    "language_info": {
      "codemirror_mode": {
        "name": "ipython",
        "version": 3
      },
      "file_extension": ".py",
      "mimetype": "text/x-python",
      "name": "python",
      "nbconvert_exporter": "python",
      "pygments_lexer": "ipython3",
      "version": "3.10.4"
    },
    "orig_nbformat": 4,
    "vscode": {
      "interpreter": {
        "hash": "39ebf16b5f7ad01995a9426fd25b538e3ecb763231923b013c197dedc60bdf95"
      }
    }
  },
  "nbformat": 4,
  "nbformat_minor": 0
}
