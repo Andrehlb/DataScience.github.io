{
<<<<<<< HEAD
 "cells": [
  {
   "cell_type": "code",
   "execution_count": 1,
   "metadata": {},
   "outputs": [
=======
  "cells": [
>>>>>>> f47d7f767dfdedd52e19e2ffc382bdf19d0f8b19
    {
      "cell_type": "code",
      "execution_count": 5,
      "metadata": {
        "id": "YE4gexDF7_xY",
        "outputId": "34272da5-6570-4072-c6b1-9ca5f3d9f32d"
      },
      "outputs": [
        {
          "name": "stdout",
          "output_type": "stream",
          "text": [
            "39 30 27\n",
            "69\n"
          ]
        }
      ],
      "source": [
        "# idade de diversos usuários do meu site\n",
        "idade1, idade2, idade3 = (39, 30, 27)\n",
        "print (idade1, idade2, idade3)\n",
        "print(idade1 + idade2)"
      ]
    },
    {
      "cell_type": "code",
      "execution_count": 11,
      "metadata": {
        "id": "dqAVy7Rw8Hja"
      },
      "outputs": [
        {
          "name": "stdout",
          "output_type": "stream",
          "text": [
            "5\n",
            "[16, 21, 29, 56, 43, 13]\n"
          ]
        }
      ],
      "source": [
        "#[00:58]\n",
        "idades = [16,21,29,56, 43]\n",
        "def faz_processamento_de_visualizacao(idades):\n",
        "    print(len(idades))\n",
        "    idades.append(13)\n",
        "    print(idades)\n",
        "faz_processamento_de_visualizacao(idades)\n"
      ]
    }
  ],
  "metadata": {
    "colab": {
      "provenance": []
    },
    "kernelspec": {
      "display_name": "Python 3",
      "language": "python",
      "name": "python3"
    },
    "language_info": {
      "codemirror_mode": {
        "name": "ipython",
        "version": 3
      },
      "file_extension": ".py",
      "mimetype": "text/x-python",
      "name": "python",
      "nbconvert_exporter": "python",
      "pygments_lexer": "ipython3",
      "version": "3.10.4"
    },
    "orig_nbformat": 4,
    "vscode": {
      "interpreter": {
        "hash": "39ebf16b5f7ad01995a9426fd25b538e3ecb763231923b013c197dedc60bdf95"
      }
    }
<<<<<<< HEAD
   ],
   "source": [
    "# idade de diversos usuários do meu site\n",
    "idade1, idade2, idade3 = (39, 30, 27)\n",
    "print (idade1, idade2, idade3)"
   ]
  },
  {
   "cell_type": "code",
   "execution_count": 2,
   "metadata": {},
   "outputs": [
    {
     "name": "stdout",
     "output_type": "stream",
     "text": [
      "<class 'tuple'>\n"
     ]
    }
   ],
   "source": [
    "print(type((idade1, idade2, idade3))) "
   ]
  },
  {
   "cell_type": "code",
   "execution_count": 3,
   "metadata": {},
   "outputs": [
    {
     "name": "stdout",
     "output_type": "stream",
     "text": [
      "18\n"
     ]
    }
   ],
   "source": [
    "idade4 = 18\n",
    "print(idade4)"
   ]
  },
  {
   "cell_type": "code",
   "execution_count": 4,
   "metadata": {},
   "outputs": [
    {
     "name": "stdout",
     "output_type": "stream",
     "text": [
      "3\n"
     ]
    }
   ],
   "source": [
    "idade1 = 39\n",
    "posicao_idade = str(idade1)[0]\n",
    "print(posicao_idade)"
   ]
  },
  {
   "cell_type": "code",
   "execution_count": 5,
   "metadata": {},
   "outputs": [
    {
     "name": "stdout",
     "output_type": "stream",
     "text": [
      "1\n"
     ]
    }
   ],
   "source": [
    "# criando uma nova tupla com os valores de idade1, idade2 e idade3 e, em seguida, usando a função index() para obter a posição da idade2 nessa tupla.\n",
    "posicao_idade2 = (idade1, idade2, idade3).index(idade2)\n",
    "print(posicao_idade2)"
   ]
  },
  {
   "cell_type": "code",
   "execution_count": 6,
   "metadata": {},
   "outputs": [
    {
     "name": "stdout",
     "output_type": "stream",
     "text": [
      "<class 'list'>\n"
     ]
    }
   ],
   "source": [
    "idades = [39, 30, 27, 18]\n",
    "print(type(idades))"
   ]
  },
  {
   "cell_type": "code",
   "execution_count": 7,
   "metadata": {},
   "outputs": [
    {
     "name": "stdout",
     "output_type": "stream",
     "text": [
      "A idade 18 está na lista de idades\n",
      "A idade 18 não está na lista de idades\n"
     ]
    }
   ],
   "source": [
    "28 in idades\n",
    "15 in idades\n",
    "18 in idades\n",
    "if 18 in idades:\n",
    "    print('A idade 18 está na lista de idades')\n",
    "else: print('A idade 18 não está na lista de idades')\n",
    "if 18 in idades:\n",
    "    idades.remove(18)\n",
    "if 18 in idades:\n",
    "    print('A idade 18 está na lista de idades')\n",
    "else: print('A idade 18 não está na lista de idades')\n",
    "    "
   ]
  },
  {
   "cell_type": "code",
   "execution_count": 8,
   "metadata": {},
   "outputs": [
    {
     "name": "stdout",
     "output_type": "stream",
     "text": [
      "A idade 19 está na lista de idades\n"
     ]
    }
   ],
   "source": [
    "# append adiciona um elemento no final da lista\n",
    "# append recebe apenas um argumento\n",
    "idades.append(19)\n",
    "if 19 in idades:\n",
    "    print('A idade 19 está na lista de idades')\n",
    "else: print('A idade 19 não está na lista de idades')"
   ]
  },
  {
   "cell_type": "code",
   "execution_count": 9,
   "metadata": {},
   "outputs": [
    {
     "name": "stdout",
     "output_type": "stream",
     "text": [
      "A idade 20 está na lista de idades\n"
     ]
    }
   ],
   "source": [
    "idades.insert(0,20)\n",
    "if 20 in idades:\n",
    "    print('A idade 20 está na lista de idades')\n",
    "else: print('A idade 20 não está na lista de idades')"
   ]
  },
  {
   "cell_type": "code",
   "execution_count": 10,
   "metadata": {},
   "outputs": [
    {
     "name": "stdout",
     "output_type": "stream",
     "text": [
      "Idades:  [20, 39, 30, 27, 19, [26, 15]]\n"
     ]
    }
   ],
   "source": [
    "# appende aceita apenas um argumento\n",
    "idades.append([26, 15])\n",
    "print (\"Idades: \", idades)"
   ]
  },
  {
   "cell_type": "code",
   "execution_count": 18,
   "metadata": {},
   "outputs": [
    {
     "data": {
      "text/plain": [
       "[20, 30, 27, 18, 26, 15]"
      ]
     },
     "execution_count": 18,
     "metadata": {},
     "output_type": "execute_result"
    }
   ],
   "source": [
    "# Aula 03Mais operações em listas e list comprehension13min\n",
    "\n",
    "# extender a lista com os elementos de outra lista usar o método #1 extend()\n",
    "idades = [20, 30, 27, 18]\n",
    "idades.extend([26, 15])\n",
    "idades"
   ]
  },
  {
   "cell_type": "code",
   "execution_count": 12,
   "metadata": {},
   "outputs": [
    {
     "name": "stdout",
     "output_type": "stream",
     "text": [
      "21\n",
      "31\n",
      "28\n",
      "19\n",
      "27\n",
      "16\n"
     ]
    }
   ],
   "source": [
    "for idade in idades:\n",
    "    print(idade+1)"
   ]
  },
  {
   "cell_type": "code",
   "execution_count": 13,
   "metadata": {},
   "outputs": [
    {
     "name": "stdout",
     "output_type": "stream",
     "text": [
      "As idades ano que vem serão:  [21, 31, 28, 19, 27, 16]\n"
     ]
    }
   ],
   "source": [
    "idades_ano_que_vem = []\n",
    "for idade in idades:\n",
    "    idades_ano_que_vem.append(idade+1)\n",
    "print(\"As idades ano que vem serão: \", idades_ano_que_vem)"
   ]
  },
  {
   "cell_type": "code",
   "execution_count": 14,
   "metadata": {},
   "outputs": [
    {
     "name": "stdout",
     "output_type": "stream",
     "text": [
      "As idades ano que vem serão:  [21, 31, 28, 19, 27, 16]\n"
     ]
    }
   ],
   "source": [
    "# outra forma de escrever a sintaxe acima\n",
    "print(\"As idades ano que vem serão: \", [(idade+1) for idade in idades])"
   ]
  },
  {
   "cell_type": "code",
   "execution_count": 15,
   "metadata": {},
   "outputs": [
    {
     "data": {
      "text/plain": [
       "[21, 31, 28, 19, 27, 16]"
      ]
     },
     "execution_count": 15,
     "metadata": {},
     "output_type": "execute_result"
    }
   ],
   "source": [
    "idades_ano_que_vem = [(idade+1) for idade in idades]\n",
    "idades_ano_que_vem"
   ]
  },
  {
   "cell_type": "code",
   "execution_count": 16,
   "metadata": {},
   "outputs": [
    {
     "data": {
      "text/plain": [
       "[31, 28, 27]"
      ]
     },
     "execution_count": 16,
     "metadata": {},
     "output_type": "execute_result"
    }
   ],
   "source": [
    "# escolhendo a idade: estritamente maior que 21\n",
    "idades_ano_que_vem = [(idade+1) for idade in idades if idade > 21]\n",
    "idades_ano_que_vem"
   ]
  },
  {
   "attachments": {},
   "cell_type": "markdown",
   "metadata": {},
   "source": [
    "O parênteses é opcional! "
   ]
  },
  {
   "cell_type": "code",
   "execution_count": 23,
   "metadata": {},
   "outputs": [
    {
     "name": "stdout",
     "output_type": "stream",
     "text": [
      "Valores das idades_ano_que_vem:  [21, 31, 28, 19, 27, 16]\n",
      "Idades maiores que 21:  [31, 28, 27]\n"
     ]
    }
   ],
   "source": [
    "print(\"Valores das idades_ano_que_vem: \", [(idade+1) for idade in idades])\n",
    "idades_ano_que_vem = [idade + 1 for idade in idades if idade > 21]\n",
    "print(\"Idades maiores que 21: \", idades_ano_que_vem)"
   ]
  },
  {
   "cell_type": "code",
   "execution_count": 26,
   "metadata": {},
   "outputs": [
    {
     "data": {
      "text/plain": [
       "[31, 28, 27]"
      ]
     },
     "execution_count": 26,
     "metadata": {},
     "output_type": "execute_result"
    }
   ],
   "source": [
    "# outra variação da sintaxe acima, usando def, isto é, definir a função\n",
    "#usa return para retornar os valores de idade.\n",
    "def proximo_ano(idade):\n",
    "    return idade +1 \n",
    "[proximo_ano(idade) for idade in idades if idade > 21]"
   ]
  },
  {
   "attachments": {},
   "cell_type": "markdown",
   "metadata": {},
   "source": [
    "Aula 04 Mutabilidade da lista"
   ]
  },
  {
   "cell_type": "code",
   "execution_count": 33,
   "metadata": {},
   "outputs": [
    {
     "name": "stdout",
     "output_type": "stream",
     "text": [
      "5\n",
      "[16, 21, 29, 56, 43, 13]\n"
     ]
    }
   ],
   "source": [
    "def faz_processamento_de_visualização(lista):\n",
    "    print(len(lista))\n",
    "    lista.append(13)\n",
    "idades = [16, 21, 29, 56, 43]\n",
    "faz_processamento_de_visualização(idades)\n",
    "\n",
    "print(idades)"
   ]
  },
  {
   "cell_type": "code",
   "execution_count": 35,
   "metadata": {},
   "outputs": [
    {
     "name": "stdout",
     "output_type": "stream",
     "text": [
      "0\n"
     ]
    }
   ],
   "source": [
    "def faz_processamento_de_visualizacao(lista = []):\n",
    "    print(len(lista))\n",
    "    lista.append(13)\n",
    "\n",
    "faz_processamento_de_visualizacao()"
   ]
  },
  {
   "cell_type": "code",
   "execution_count": 40,
   "metadata": {},
   "outputs": [
    {
     "name": "stdout",
     "output_type": "stream",
     "text": [
      "5\n"
     ]
    }
   ],
   "source": [
    "faz_processamento_de_visualizacao()"
   ]
  },
  {
   "cell_type": "code",
   "execution_count": null,
   "metadata": {},
   "outputs": [],
   "source": []
  }
 ],
 "metadata": {
  "kernelspec": {
   "display_name": "Python 3",
   "language": "python",
   "name": "python3"
=======
>>>>>>> f47d7f767dfdedd52e19e2ffc382bdf19d0f8b19
  },
  "nbformat": 4,
  "nbformat_minor": 0
}
