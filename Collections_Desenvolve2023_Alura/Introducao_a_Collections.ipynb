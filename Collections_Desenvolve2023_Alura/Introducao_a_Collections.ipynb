{
  "cells": [
    {
      "cell_type": "code",
      "execution_count": null,
      "metadata": {
        "id": "YE4gexDF7_xY",
        "outputId": "34272da5-6570-4072-c6b1-9ca5f3d9f32d"
      },
      "outputs": [
        {
          "name": "stdout",
          "output_type": "stream",
          "text": [
            "39 30 27\n"
          ]
        }
      ],
      "source": [
        "# idade de diversos usuários do meu site\n",
        "idade1, idade2, idade3 = (39, 30, 27)\n",
        "print (idade1, idade2, idade3)\n",
        "print(idade1 + idade2)"
      ]
    },
    {
      "cell_type": "code",
      "execution_count": null,
      "metadata": {
        "id": "dqAVy7Rw8Hja"
      },
      "outputs": [],
      "source": [
        "#[00:58]\n",
        "idades = [16,21,29,56, 43]\n",
        "def faz_processamento_de_visualização(idades)\n",
        "print(len(lista))\n",
        "listra.append(13)\n"
      ]
    }
  ],
  "metadata": {
    "colab": {
      "provenance": []
    },
    "kernelspec": {
      "display_name": "Python 3",
      "language": "python",
      "name": "python3"
    },
    "language_info": {
      "codemirror_mode": {
        "name": "ipython",
        "version": 3
      },
      "file_extension": ".py",
      "mimetype": "text/x-python",
      "name": "python",
      "nbconvert_exporter": "python",
      "pygments_lexer": "ipython3",
      "version": "3.10.8"
    },
    "orig_nbformat": 4,
    "vscode": {
      "interpreter": {
        "hash": "39ebf16b5f7ad01995a9426fd25b538e3ecb763231923b013c197dedc60bdf95"
      }
    }
  },
  "nbformat": 4,
  "nbformat_minor": 0
}
