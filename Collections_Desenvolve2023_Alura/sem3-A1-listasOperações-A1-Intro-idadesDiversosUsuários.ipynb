idade1 = 39 
idade2 = 30
idade3 = 27
