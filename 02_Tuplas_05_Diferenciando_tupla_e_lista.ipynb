{
  "nbformat": 4,
  "nbformat_minor": 0,
  "metadata": {
    "colab": {
      "provenance": [],
      "authorship_tag": "ABX9TyPA1ITFhXnlrLgS84YY8rjj",
      "include_colab_link": true
    },
    "kernelspec": {
      "name": "python3",
      "display_name": "Python 3"
    },
    "language_info": {
      "name": "python"
    }
  },
  "cells": [
    {
      "cell_type": "markdown",
      "metadata": {
        "id": "view-in-github",
        "colab_type": "text"
      },
      "source": [
        "<a href=\"https://colab.research.google.com/github/Andrehlb/dvelopment.github.io/blob/main/02_Tuplas_05_Diferenciando_tupla_e_lista.ipynb\" target=\"_parent\"><img src=\"https://colab.research.google.com/assets/colab-badge.svg\" alt=\"Open In Colab\"/></a>"
      ]
    },
    {
      "cell_type": "code",
      "execution_count": 2,
      "metadata": {
        "id": "hFxwi5U_8cj8"
      },
      "outputs": [],
      "source": [
        "# dados do conjunto saldo e conta bancária\n",
        "# valor de agência bancária é imutável\n",
        "agenicia = [10, 22, 33, 44]\n",
        "\n",
        "saldo = [1000, 2000, 3000, 4000]\n",
        "# melhor forma de declarar\n",
        "# tupla\n",
        "agencia = (10, 22, 33, 44)\n",
        "# lista\n",
        "saldo = [1000, 2000, 3000, 4000]"
      ]
    }
  ]
}