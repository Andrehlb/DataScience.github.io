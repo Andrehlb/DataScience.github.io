{
 "cells": [
  {
   "cell_type": "code",
   "execution_count": null,
   "metadata": {},
   "outputs": [],
   "source": [
    "while(not acertou and not enforcou):\n",
    "    chute = input(\"Qual letra? \")\n",
    "    chute = chute.strip()\n",
    "index = 0\n",
    "for letra in palavra_secreta:\n",
    "    if (chute.upper() == letra.upper()):\n",
    "        #letras_acertadas[index] = letra\n",
    "        print(\"Encontrei a letra {} na posição {}\" .format(letra, index))\n",
    "    index = index + 1"
   ]
  },
  {
   "cell_type": "code",
   "execution_count": null,
   "metadata": {},
   "outputs": [],
   "source": [
    "while enforcamentos > 0 and \"_\" in letras_acertadas:\n",
    "    tentativa = input(\"Adivinhe uma letra: \").strip().lower()\n",
    "    if tentativa = palavra_secreta:\n",
    "        index = 0\n",
    "        for letra in palavra_secreta:\n",
    "            if letra == tentativa:\n",
    "                letras_acertadas[index] = letra\n",
    "            index += 1\n",
    "        print(\" \".join(letras_acertadas))"
   ]
  },
  {
   "cell_type": "code",
   "execution_count": null,
   "metadata": {},
   "outputs": [],
   "source": [
    "#listas\n",
    "valores = []\n",
    "type(valores)\n",
    "<class 'list'>\n",
    "#Qual letra? _ _ _ _ _ _"
   ]
  },
  {
   "cell_type": "code",
   "execution_count": null,
   "metadata": {},
   "outputs": [],
   "source": [
    "valores = [0,1,2,3,4]"
   ]
  },
  {
   "cell_type": "code",
   "execution_count": null,
   "metadata": {},
   "outputs": [],
   "source": [
    "valores = [0,1,2,3,4]\n",
    "min(valores)\n",
    "max(valores)\n",
    "valorres[2]\n",
    "0 in valores True\n",
    "0 in valores False"
   ]
  },
  {
   "cell_type": "code",
   "execution_count": 1,
   "metadata": {},
   "outputs": [
    {
     "name": "stdout",
     "output_type": "stream",
     "text": [
      "Desculpe, não temos, em estoque, a fruta neste momento.\n"
     ]
    }
   ],
   "source": [
    "#Barraca de Frutas de Mariana\n",
    "# coding: utf-8\n",
    "frutas = ['Banana', 'Maçã', 'Pera', 'Uva', 'Melancia', 'Jamelão']\n",
    "fruta_pedida = input('Qual fruta você procura?')\n",
    "if(fruta_pedida in frutas): print('Sim, nós temos a fruta que você procura.')\n",
    "else: print('Desculpe, não temos, em estoque, a fruta neste momento.')"
   ]
  }
 ],
 "metadata": {
  "kernelspec": {
   "display_name": "Python 3",
   "language": "python",
   "name": "python3"
  },
  "language_info": {
   "codemirror_mode": {
    "name": "ipython",
    "version": 3
   },
   "file_extension": ".py",
   "mimetype": "text/x-python",
   "name": "python",
   "nbconvert_exporter": "python",
   "pygments_lexer": "ipython3",
   "version": "3.10.8"
  },
  "orig_nbformat": 4,
  "vscode": {
   "interpreter": {
    "hash": "39ebf16b5f7ad01995a9426fd25b538e3ecb763231923b013c197dedc60bdf95"
   }
  }
 },
 "nbformat": 4,
 "nbformat_minor": 2
}
