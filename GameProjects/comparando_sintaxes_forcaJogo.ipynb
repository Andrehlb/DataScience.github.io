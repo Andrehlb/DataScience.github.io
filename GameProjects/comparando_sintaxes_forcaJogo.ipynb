{
 "cells": [
  {
   "cell_type": "code",
   "execution_count": 1,
   "metadata": {},
   "outputs": [
    {
     "ename": "NameError",
     "evalue": "name 'acertou' is not defined",
     "output_type": "error",
     "traceback": [
      "\u001b[1;31m---------------------------------------------------------------------------\u001b[0m",
      "\u001b[1;31mNameError\u001b[0m                                 Traceback (most recent call last)",
      "Cell \u001b[1;32mIn[1], line 1\u001b[0m\n\u001b[1;32m----> 1\u001b[0m \u001b[39mwhile\u001b[39;00m(\u001b[39mnot\u001b[39;00m acertou \u001b[39mand\u001b[39;00m \u001b[39mnot\u001b[39;00m enforcou):\n\u001b[0;32m      2\u001b[0m     chute \u001b[39m=\u001b[39m \u001b[39minput\u001b[39m(\u001b[39m\"\u001b[39m\u001b[39mQual letra? \u001b[39m\u001b[39m\"\u001b[39m)\n\u001b[0;32m      3\u001b[0m     chute \u001b[39m=\u001b[39m chute\u001b[39m.\u001b[39mstrip()\n",
      "\u001b[1;31mNameError\u001b[0m: name 'acertou' is not defined"
     ]
    }
   ],
   "source": [
    "while(not acertou and not enforcou):\n",
    "    chute = input(\"Qual letra? \")\n",
    "    chute = chute.strip()\n",
    "index = 0\n",
    "for letra in palavra_secreta:\n",
    "    if (chute.upper() == letra.upper()):\n",
    "        #letras_acertadas[index] = letra\n",
    "        print(\"Encontrei a letra {} na posição {}\" .format(letra, index))\n",
    "    index = index + 1"
   ]
  },
  {
   "cell_type": "code",
   "execution_count": null,
   "metadata": {},
   "outputs": [],
   "source": [
    "while enforcamentos > 0 and \"_\" in letras_acertadas:\n",
    "    tentativa = input(\"Adivinhe uma letra: \").strip().lower()\n",
    "    if tentativa = palavra_secreta:\n",
    "        index = 0\n",
    "        for letra in palavra_secreta:\n",
    "            if letra == tentativa:\n",
    "                letras_acertadas[index] = letra\n",
    "            index += 1\n",
    "        print(\" \".join(letras_acertadas))"
   ]
  }
 ],
 "metadata": {
  "kernelspec": {
   "display_name": "Python 3",
   "language": "python",
   "name": "python3"
  },
  "language_info": {
   "codemirror_mode": {
    "name": "ipython",
    "version": 3
   },
   "file_extension": ".py",
   "mimetype": "text/x-python",
   "name": "python",
   "nbconvert_exporter": "python",
   "pygments_lexer": "ipython3",
   "version": "3.10.8"
  },
  "orig_nbformat": 4,
  "vscode": {
   "interpreter": {
    "hash": "39ebf16b5f7ad01995a9426fd25b538e3ecb763231923b013c197dedc60bdf95"
   }
  }
 },
 "nbformat": 4,
 "nbformat_minor": 2
}
